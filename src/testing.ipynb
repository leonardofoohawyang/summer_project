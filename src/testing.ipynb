{
  "nbformat": 4,
  "nbformat_minor": 0,
  "metadata": {
    "colab": {
      "name": "Copy of Strokes_QuickDraw.ipynb",
      "provenance": [],
      "collapsed_sections": []
    },
    "kernelspec": {
      "name": "python3",
      "display_name": "Python 3"
    },
    "gpuClass": "standard"
  },
  "cells": [
    {
      "metadata": {
        "id": "VRvAWhDx42vJ"
      },
      "cell_type": "markdown",
      "source": [
        "# Introduction\n",
        "\n",
        "The Quick Draw Dataset is a collection of 50 million drawings across 345 categories, contributed by players of the game Quick Draw. \n",
        "\n",
        "![alt text](https://raw.githubusercontent.com/googlecreativelab/quickdraw-dataset/master/preview.jpg)"
      ]
    },
    {
      "metadata": {
        "id": "x3mArkrmcIMD"
      },
      "cell_type": "markdown",
      "source": [
        "# The  Raw Dataset\n",
        "\n",
        "This table shows a description of the fields of each entry in the dataset"
      ]
    },
    {
      "metadata": {
        "id": "18brrxIxchKc"
      },
      "cell_type": "markdown",
      "source": [
        ">Key | Type | Description\n",
        ">--- | ---\n",
        ">key_id \t| 64-bit unsigned integer  |\tA unique identifier across all drawings.\n",
        "> word |\tstring \t|Category the player was prompted to draw.\n",
        ">recognized |\tboolean \t|Whether the word was recognized by the game.\n",
        "> timestamp \t| datetime \t| When the drawing was created.\n",
        "> countrycode |\tstring |\tA two letter country code \n",
        "> drawing |\tstring |\tA JSON array representing the vector drawing"
      ]
    },
    {
      "metadata": {
        "id": "tY1OeVFpeIk0"
      },
      "cell_type": "markdown",
      "source": [
        "# Imports"
      ]
    },
    {
      "metadata": {
        "id": "0ABX6O4kYwYS"
      },
      "cell_type": "code",
      "source": [
        "import os\n",
        "import io\n",
        "import random\n",
        "import glob\n",
        "import math\n",
        "import base64\n",
        "import json\n",
        "import numpy as np\n",
        "import urllib.request\n",
        "import numpy as np\n",
        "import matplotlib.pyplot as plt\n",
        "from matplotlib import animation\n",
        "from IPython.display import HTML"
      ],
      "execution_count": 1,
      "outputs": []
    },
    {
      "cell_type": "code",
      "source": [
        "import nltk\n",
        "nltk.download('popular')\n",
        "import jieba\n",
        "import jieba.analyse\n",
        "import jieba.posseg"
      ],
      "metadata": {
        "colab": {
          "base_uri": "https://localhost:8080/"
        },
        "id": "VQ0pzL5SX7En",
        "outputId": "ba1b131b-2601-40c8-8cb1-0c36f0152f61"
      },
      "execution_count": 2,
      "outputs": [
        {
          "output_type": "stream",
          "name": "stderr",
          "text": [
            "[nltk_data] Downloading collection 'popular'\n",
            "[nltk_data]    | \n",
            "[nltk_data]    | Downloading package cmudict to /root/nltk_data...\n",
            "[nltk_data]    |   Unzipping corpora/cmudict.zip.\n",
            "[nltk_data]    | Downloading package gazetteers to /root/nltk_data...\n",
            "[nltk_data]    |   Unzipping corpora/gazetteers.zip.\n",
            "[nltk_data]    | Downloading package genesis to /root/nltk_data...\n",
            "[nltk_data]    |   Unzipping corpora/genesis.zip.\n",
            "[nltk_data]    | Downloading package gutenberg to /root/nltk_data...\n",
            "[nltk_data]    |   Unzipping corpora/gutenberg.zip.\n",
            "[nltk_data]    | Downloading package inaugural to /root/nltk_data...\n",
            "[nltk_data]    |   Unzipping corpora/inaugural.zip.\n",
            "[nltk_data]    | Downloading package movie_reviews to\n",
            "[nltk_data]    |     /root/nltk_data...\n",
            "[nltk_data]    |   Unzipping corpora/movie_reviews.zip.\n",
            "[nltk_data]    | Downloading package names to /root/nltk_data...\n",
            "[nltk_data]    |   Unzipping corpora/names.zip.\n",
            "[nltk_data]    | Downloading package shakespeare to /root/nltk_data...\n",
            "[nltk_data]    |   Unzipping corpora/shakespeare.zip.\n",
            "[nltk_data]    | Downloading package stopwords to /root/nltk_data...\n",
            "[nltk_data]    |   Unzipping corpora/stopwords.zip.\n",
            "[nltk_data]    | Downloading package treebank to /root/nltk_data...\n",
            "[nltk_data]    |   Unzipping corpora/treebank.zip.\n",
            "[nltk_data]    | Downloading package twitter_samples to\n",
            "[nltk_data]    |     /root/nltk_data...\n",
            "[nltk_data]    |   Unzipping corpora/twitter_samples.zip.\n",
            "[nltk_data]    | Downloading package omw to /root/nltk_data...\n",
            "[nltk_data]    | Downloading package omw-1.4 to /root/nltk_data...\n",
            "[nltk_data]    | Downloading package wordnet to /root/nltk_data...\n",
            "[nltk_data]    | Downloading package wordnet2021 to /root/nltk_data...\n",
            "[nltk_data]    | Downloading package wordnet31 to /root/nltk_data...\n",
            "[nltk_data]    | Downloading package wordnet_ic to /root/nltk_data...\n",
            "[nltk_data]    |   Unzipping corpora/wordnet_ic.zip.\n",
            "[nltk_data]    | Downloading package words to /root/nltk_data...\n",
            "[nltk_data]    |   Unzipping corpora/words.zip.\n",
            "[nltk_data]    | Downloading package maxent_ne_chunker to\n",
            "[nltk_data]    |     /root/nltk_data...\n",
            "[nltk_data]    |   Unzipping chunkers/maxent_ne_chunker.zip.\n",
            "[nltk_data]    | Downloading package punkt to /root/nltk_data...\n",
            "[nltk_data]    |   Unzipping tokenizers/punkt.zip.\n",
            "[nltk_data]    | Downloading package snowball_data to\n",
            "[nltk_data]    |     /root/nltk_data...\n",
            "[nltk_data]    | Downloading package averaged_perceptron_tagger to\n",
            "[nltk_data]    |     /root/nltk_data...\n",
            "[nltk_data]    |   Unzipping taggers/averaged_perceptron_tagger.zip.\n",
            "[nltk_data]    | \n",
            "[nltk_data]  Done downloading collection popular\n"
          ]
        }
      ]
    },
    {
      "cell_type": "markdown",
      "source": [
        "# Create Chinese - English Dictionary"
      ],
      "metadata": {
        "id": "Jax-ucpDdDZr"
      }
    },
    {
      "cell_type": "code",
      "source": [
        "fd = open(\"/content/Chinese_Classes.txt\", \"r\")\n",
        "data = fd.read()\n",
        "chinese_class = data.split(\"\\n\")\n",
        "fd.close()\n",
        "\n",
        "fd = open(\"/content/English_Classes.txt\", \"r\")\n",
        "data = fd.read()\n",
        "english_class = data.split(\"\\n\")\n",
        "fd.close()\n",
        "\n",
        "chi_eng = dict(zip(chinese_class, english_class))\n",
        "print(chi_eng)"
      ],
      "metadata": {
        "colab": {
          "base_uri": "https://localhost:8080/"
        },
        "id": "RV4e4-codJqY",
        "outputId": "42acc99e-fdfe-4225-f85c-513e2616109e"
      },
      "execution_count": 3,
      "outputs": [
        {
          "output_type": "stream",
          "name": "stdout",
          "text": [
            "{'航空母艦': 'aircraft carrier', '飛機': 'airplane', '鬧鐘': 'alarm clock', '救護車': 'ambulance', '天使': 'angel', '動物遷徙': 'animal migration', '螞蟻': 'ant', '砧': 'anvil', '蘋果': 'apple', '手臂': 'arm', '蘆筍': 'asparagus', '斧頭': 'axe', '背包': 'backpack', '香蕉': 'banana', '繃帶': 'bandage', '穀倉': 'barn', '棒球': 'baseball', '棒球棒': 'baseball bat', '籃子': 'basket', '籃球': 'basketball', '蝙蝠': 'bat', '浴缸': 'bathtub', '海灘': 'beach', '熊': 'bear', '鬍鬚': 'beard', '床': 'bed', '蜜蜂': 'bee', '腰帶': 'belt', '長椅': 'couch', '自行車': 'bicycle', '望遠鏡': 'binoculars', '鳥': 'bird', '生日蛋糕': 'birthday cake', '黑莓': 'blackberry', '藍莓': 'blueberry', '書': 'book', '迴旋鏢': 'boomerang', '瓶蓋': 'bottlecap', '領結': 'bowtie', '手鐲': 'bracelet', '腦': 'brain', '麵包': 'bread', '橋': 'bridge', '西蘭花': 'broccoli', '掃帚': 'broom', '桶': 'bucket', '推土機': 'bulldozer', '公共汽車': 'bus', '襯套': 'bush', '蝴蝶': 'butterfly', '仙人掌': 'cactus', '蛋糕': 'cake', '計算器': 'calculator', '日曆': 'calendar', '駱駝': 'camel', '相機': 'camera', '偽裝': 'camouflage', '營火': 'campfire', '蠟燭': 'candle', '大砲': 'cannon', '獨木舟': 'canoe', '車': 'car', '蘿蔔': 'carrot', '城堡': 'castle', '貓': 'cat', '吊扇': 'ceiling fan', '大提琴': 'cello', '手機': 'cell phone', '椅子': 'chair', '枝形吊燈': 'chandelier', '教會': 'church', '圓圈': 'circle', '單簧管': 'clarinet', '鐘': 'clock', '雲': 'cloud', '咖啡杯': 'coffee cup', '羅盤': 'compass', '計算機': 'computer', '曲奇餅': 'cookie', '冷卻器': 'cooler', '奶牛': 'cow', '螃蟹': 'crab', '蠟筆': 'crayon', '鱷魚': 'crocodile', '王冠': 'crown', '遊輪': 'cruise ship', '杯子': 'cup', '鑽石': 'diamond', '洗碗機': 'dishwasher', '跳水台': 'diving board', '狗': 'dog', '海豚': 'dolphin', '甜甜圈': 'donut', '門': 'door', '龍': 'dragon', '梳妝台': 'dresser', '鑽頭': 'drill', '鼓': 'drums', '鴨': 'duck', '啞鈴': 'dumbbell', '耳朵': 'ear', '彎頭': 'elbow', '大象': 'elephant', '信封': 'envelope', '橡皮': 'eraser', '眼睛': 'eye', '眼鏡': 'eyeglasses', '臉': 'face', '扇子': 'fan', '羽毛': 'feather', '柵欄': 'fence', '手指': 'finger', '消防栓': 'fire hydrant', '壁爐': 'fireplace', '消防車': 'firetruck', '魚': 'fish', '火烈鳥': 'flamingo', '手電筒': 'flashlight', '人字拖': 'flip flops', '落地燈': 'floor lamp', '花': 'flower', '飛碟': 'flying saucer', '腳': 'foot', '叉子': 'fork', '青蛙': 'frog', '平底鍋': 'frying pan', '花園': 'garden', '園藝軟管': 'garden hose', '長頸鹿': 'giraffe', '山羊胡': 'goatee', '高爾夫俱樂部': 'golf club', '葡萄': 'grapes', '草': 'grass', '吉他': 'guitar', '漢堡包': 'hamburger', '錘子': 'hammer', '手': 'hand', '豎琴': 'harp', '帽子': 'hat', '耳機': 'headphones', '刺猬': 'hedgehog', '直升機': 'helicopter', '頭盔': 'helmet', '六邊形': 'hexagon', '冰球': 'hockey puck', '曲棍球棒': 'hockey stick', '馬': 'horse', '醫院': 'hospital', '熱氣球': 'hot air balloon', '熱狗': 'hot dog', '熱水浴缸': 'hot tub', '滴漏': 'hourglass', '屋': 'house', '室內植物': 'house plant', '颶風': 'hurricane', '冰淇淋': 'ice cream', '夾克': 'jacket', '監獄': 'jail', '袋鼠': 'kangaroo', '鑰匙': 'key', '鍵盤': 'keyboard', '膝蓋': 'knee', '刀': 'knife', '梯子': 'ladder', '燈籠': 'lantern', '筆記本電腦': 'laptop', '葉子': 'leaf', '腿': 'leg', '燈泡': 'light bulb', '打火機': 'lighter', '燈塔': 'lighthouse', '閃電': 'lightning', '線': 'line', '獅子': 'lion', '口紅': 'lipstick', '龍蝦': 'lobster', '棒糖': 'lollipop', '郵箱': 'mailbox', '地圖': 'map', '標記': 'marker', '火柴': 'matches', '擴音器': 'megaphone', '美人魚': 'mermaid', '麥克風': 'microphone', '微波': 'microwave', '猴': 'monkey', '月亮': 'moon', '蚊子': 'mosquito', '摩托車': 'motorbike', '山': 'mountain', '鼠': 'mouse', '鬍子': 'moustache', '嘴': 'mouth', '馬克杯': 'mug', '蘑菇': 'mushroom', '指甲': 'nail', '項鍊': 'necklace', '鼻子': 'nose', '海洋': 'ocean', '八角形': 'octagon', '章魚': 'octopus', '洋蔥': 'onion', '烤箱': 'oven', '貓頭鷹': 'owl', '畫筆': 'paintbrush', '油漆罐': 'paint can', '棕櫚樹': 'palm tree', '熊貓': 'panda', '褲子': 'pants', '回形針': 'paper clip', '降落傘': 'parachute', '鸚鵡': 'parrot', '護照': 'passport', '花生': 'peanut', '梨': 'pear', '豌豆': 'peas', '鉛筆': 'pencil', '企鵝': 'penguin', '鋼琴': 'piano', '皮卡車': 'pickup truck', '鏡框': 'picture frame', '豬': 'pig', '枕頭': 'pillow', '菠蘿': 'pineapple', '比薩': 'pizza', '鉗': 'pliers', '警車': 'police car', '池塘': 'pond', '水池': 'pool', '棒冰': 'popsicle', '明信片': 'postcard', '土豆': 'potato', '電源插座': 'power outlet', '錢包': 'purse', '兔子': 'rabbit', '狸': 'raccoon', '收音機': 'radio', '雨': 'rain', '彩虹': 'rainbow', '耙': 'rake', '遙控': 'remote control', '犀牛': 'rhinoceros', '步槍': 'rifle', '河': 'river', '過山車': 'roller coaster', '旱冰鞋': 'rollerskates', '帆船': 'sailboat', '三明治': 'sandwich', '鋸': 'saw', '薩克斯管': 'saxophone', '校車': 'school bus', '剪刀': 'scissors', '蠍': 'scorpion', '螺絲刀': 'screwdriver', '海龜': 'sea turtle', '見鋸': 'see saw', '鯊魚': 'shark', '羊': 'sheep', '鞋子': 'shoe', '短褲': 'shorts', '鏟': 'shovel', '下沉': 'sink', '滑板': 'skateboard', '顱骨': 'skull', '摩天大樓': 'skyscraper', '睡袋': 'sleeping bag', '笑臉': 'smiley face', '蝸牛': 'snail', '蛇': 'snake', '浮潛': 'snorkel', '雪花': 'snowflake', '雪人': 'snowman', '足球': 'soccer ball', '短襪': 'sock', '快艇': 'speedboat', '蜘蛛': 'spider', '勺子': 'spoon', '電子表格': 'spreadsheet', '正方形': 'square', '波浪線': 'squiggle', '松鼠': 'squirrel', '樓梯': 'stairs', '星星': 'star', '牛扒': 'steak', '立體聲': 'stereo', '聽診器': 'stethoscope', '縫針': 'stitches', '停止標誌': 'stop sign', '火爐': 'stove', '草莓': 'strawberry', '路燈': 'streetlight', '菜豆': 'string bean', '潛艇': 'submarine', '手提箱': 'suitcase', '太陽': 'sun', '天鵝': 'swan', '毛衣': 'sweater', '鞦韆椅': 'swing set', '劍': 'sword', '注射器': 'syringe', '桌子': 'table', '茶壺': 'teapot', '泰迪熊': 'teddy-bear', '電話': 'telephone', '電視': 'television', '網球拍': 'tennis racquet', '帳篷': 'tent', '艾菲爾鐵塔': 'The Eiffel Tower', '中國的長城': 'The Great Wall of China', '蒙娜麗莎': 'The Mona Lisa', '老虎': 'tiger', '烤麵包機': 'toaster', '腳趾': 'toe', '洗手間': 'toilet', '齒': 'tooth', '牙刷': 'toothbrush', '牙膏': 'toothpaste', '龍捲風': 'tornado', '拖拉機': 'tractor', '紅綠燈': 'traffic light', '火車': 'train', '樹': 'tree', '三角形': 'triangle', '長號': 'trombone', '卡車': 'truck', '喇叭': 'trumpet', 'T卹': 't-shirt', '傘': 'umbrella', '內衣': 'underwear', '麵包車': 'van', '花瓶': 'vase', '小提琴': 'violin', '洗衣機': 'washing machine', '西瓜': 'watermelon', '水上滑梯': 'waterslide', '鯨': 'whale', '車輪': 'wheel', '風車': 'windmill', '酒瓶': 'wine bottle', '紅酒杯': 'wine glass', '手錶': 'wristwatch', '瑜伽': 'yoga', '斑馬': 'zebra', '曲折': 'zigzag'}\n"
          ]
        }
      ]
    },
    {
      "metadata": {
        "id": "5NDfBHVjACAt"
      },
      "cell_type": "markdown",
      "source": [
        "# Download the Dataset "
      ]
    },
    {
      "metadata": {
        "id": "7MC_PUS-fKjH"
      },
      "cell_type": "markdown",
      "source": [
        "Loop over the classes and download the currospondent data. We only download 10 classes for visualization. "
      ]
    },
    {
      "metadata": {
        "id": "rdSUnpL0u22Q",
        "colab": {
          "base_uri": "https://localhost:8080/"
        },
        "outputId": "4d01a748-3c56-42cf-c3b4-bf21ec8e5909"
      },
      "cell_type": "code",
      "source": [
        "!mkdir data\n",
        "classes = ['sun', 'apple', 'house', 'star', 'diamond', 'car', 'tree', 'cat', 'camera', 'flower']"
      ],
      "execution_count": 57,
      "outputs": [
        {
          "output_type": "stream",
          "name": "stdout",
          "text": [
            "mkdir: cannot create directory ‘data’: File exists\n"
          ]
        }
      ]
    },
    {
      "metadata": {
        "id": "22DPhL5FtWcQ"
      },
      "cell_type": "code",
      "source": [
        "def download():  \n",
        "  #base link  \n",
        "  base = 'https://storage.googleapis.com/quickdraw_dataset/full/'\n",
        "  \n",
        "  #download each class as json files \n",
        "  for c in classes:\n",
        "    path = f'{base}raw/{c}.ndjson'\n",
        "    print(path)\n",
        "    urllib.request.urlretrieve(path, f'data/{c}.ndjson')"
      ],
      "execution_count": 46,
      "outputs": []
    },
    {
      "metadata": {
        "id": "O5jF6TXXu-Bu",
        "outputId": "1a58fa60-3ad7-4f64-cd17-a7d8ddb85089",
        "colab": {
          "base_uri": "https://localhost:8080/"
        }
      },
      "cell_type": "code",
      "source": [
        "download() "
      ],
      "execution_count": 47,
      "outputs": [
        {
          "output_type": "stream",
          "name": "stdout",
          "text": [
            "https://storage.googleapis.com/quickdraw_dataset/full/raw/tree.ndjson\n",
            "https://storage.googleapis.com/quickdraw_dataset/full/raw/sun.ndjson\n",
            "https://storage.googleapis.com/quickdraw_dataset/full/raw/apple.ndjson\n",
            "https://storage.googleapis.com/quickdraw_dataset/full/raw/flower.ndjson\n",
            "https://storage.googleapis.com/quickdraw_dataset/full/raw/car.ndjson\n",
            "https://storage.googleapis.com/quickdraw_dataset/full/raw/star.ndjson\n",
            "https://storage.googleapis.com/quickdraw_dataset/full/raw/house.ndjson\n",
            "https://storage.googleapis.com/quickdraw_dataset/full/raw/camera.ndjson\n",
            "https://storage.googleapis.com/quickdraw_dataset/full/raw/diamond.ndjson\n",
            "https://storage.googleapis.com/quickdraw_dataset/full/raw/cat.ndjson\n"
          ]
        }
      ]
    },
    {
      "metadata": {
        "id": "PIx1l3CGex4-"
      },
      "cell_type": "markdown",
      "source": [
        "# Load to Memory \n",
        "\n",
        "Load the `drawing` information for each file. Each drawing contains a number of strokes and each stroke contain the array $[x, y, t]$ where $x,y$ are the coordinates as array and $t$ is the time stamps. "
      ]
    },
    {
      "metadata": {
        "id": "-Fwjz3DRbhzj"
      },
      "cell_type": "code",
      "source": [
        "drawings = []\n",
        "\n",
        "files = os.listdir('data')\n",
        "\n",
        "i = 0 \n",
        "\n",
        "for file in files:\n",
        "  contents = open(f'data/{file}', \"r\").read() \n",
        "  data = contents.split('\\n')\n",
        "  \n",
        "  #load samples for each class \n",
        "  for h in data[:1]:\n",
        "    drawings.append(json.loads(h)['drawing'])\n",
        "  i += 1"
      ],
      "execution_count": 48,
      "outputs": []
    },
    {
      "metadata": {
        "id": "_O_7-oJOy2OD"
      },
      "cell_type": "code",
      "source": [
        "#the first stroke of the first drawing\n",
        "[x, y, t] = drawings[0][0]"
      ],
      "execution_count": 49,
      "outputs": []
    },
    {
      "metadata": {
        "id": "3WNQCtLOfj9D"
      },
      "cell_type": "markdown",
      "source": [
        "# Animation"
      ]
    },
    {
      "metadata": {
        "id": "u5lOmx6mdD6L"
      },
      "cell_type": "code",
      "source": [
        "def create_animation(drawing, fps = 30, idx = 0, lw = 5): \n",
        "  \n",
        "  seq_length = 0 \n",
        "  \n",
        "  xmax = 0 \n",
        "  ymax = 0 \n",
        "  \n",
        "  xmin = math.inf\n",
        "  ymin = math.inf\n",
        "  \n",
        "  #retreive min,max and the length of the drawing  \n",
        "  for k in range(0, len(drawing)):\n",
        "    x = drawing[k][0]\n",
        "    y = drawing[k][1]\n",
        "\n",
        "    seq_length += len(x)\n",
        "    xmax = max([max(x), xmax]) \n",
        "    ymax = max([max(y), ymax]) \n",
        "    \n",
        "    xmin = min([min(x), xmin]) \n",
        "    ymin = min([min(y), ymin]) \n",
        "    \n",
        "  i = 0 \n",
        "  j = 0\n",
        "  \n",
        "  # First set up the figure, the axis, and the plot element we want to animate\n",
        "  fig = plt.figure()\n",
        "  ax = plt.axes(xlim=(xmax+lw, xmin-lw), ylim=(ymax+lw, ymin-lw))\n",
        "  ax.set_facecolor(\"white\")\n",
        "  line, = ax.plot([], [], lw=lw)\n",
        "\n",
        "  #remove the axis \n",
        "  ax.grid = False\n",
        "  ax.set_xticks([])\n",
        "  ax.set_yticks([])\n",
        "  \n",
        "  # initialization function: plot the background of each frame\n",
        "  def init():\n",
        "      line.set_data([], [])\n",
        "      return line, \n",
        "\n",
        "  # animation function.  This is called sequentially\n",
        "  def animate(frame):    \n",
        "    nonlocal i, j, line\n",
        "    x = drawing[i][0]\n",
        "    y = drawing[i][1]\n",
        "    line.set_data(x[0:j], y[0:j])\n",
        "    \n",
        "    if j >= len(x):\n",
        "      i +=1\n",
        "      j = 0 \n",
        "      line, = ax.plot([], [], lw=lw)\n",
        "      \n",
        "    else:\n",
        "      j += 1\n",
        "    return line,\n",
        "  \n",
        "  # call the animator.  blit=True means only re-draw the parts that have changed.\n",
        "  anim = animation.FuncAnimation(fig, animate, init_func=init,\n",
        "                                 frames= seq_length + len(drawing), blit=True)\n",
        "  plt.close()\n",
        "  \n",
        "  # save the animation as an mp4.  \n",
        "  anim.save(f'video.mp4', fps=fps, extra_args=['-vcodec', 'libx264'])"
      ],
      "execution_count": 50,
      "outputs": []
    },
    {
      "cell_type": "markdown",
      "source": [
        "# Get The Nouns"
      ],
      "metadata": {
        "id": "kXbxrU6xewm7"
      }
    },
    {
      "cell_type": "code",
      "source": [
        "posseg = jieba.posseg.POSTokenizer(tokenizer=None)\n",
        "def ProperNounExtractor(text):\n",
        "    sentences = jieba.posseg.POSTokenizer(tokenizer=None)\n",
        "    words = posseg.cut(text)\n",
        "    for word, tag in words:\n",
        "        #print(word, tag)\n",
        "        if tag == 'n':\n",
        "            return word"
      ],
      "metadata": {
        "id": "w4uMTO_tezHF"
      },
      "execution_count": 51,
      "outputs": []
    },
    {
      "cell_type": "markdown",
      "source": [
        "# Run"
      ],
      "metadata": {
        "id": "BJd362NuehkW"
      }
    },
    {
      "cell_type": "code",
      "source": [
        "text_1 = \"右邊看到一輛車.\"\n",
        "text_2 = \"我走進屋.\"\n",
        "text_3 = \"我愛吃蘋果.\"\n",
        "text_4 = \"我有一隻貓\"\n",
        "nouns = ProperNounExtractor(text_2)\n",
        "print(nouns)"
      ],
      "metadata": {
        "colab": {
          "base_uri": "https://localhost:8080/"
        },
        "id": "ibmP8WL1ejsy",
        "outputId": "ceed313d-72fd-4655-9423-6e648a3e08a0"
      },
      "execution_count": 52,
      "outputs": [
        {
          "output_type": "stream",
          "name": "stderr",
          "text": [
            "Building prefix dict from the default dictionary ...\n",
            "Loading model from cache /tmp/jieba.cache\n",
            "Loading model cost 0.932 seconds.\n",
            "Prefix dict has been built successfully.\n"
          ]
        },
        {
          "output_type": "stream",
          "name": "stdout",
          "text": [
            "屋\n"
          ]
        }
      ]
    },
    {
      "metadata": {
        "id": "sLTrgWG1-BrS",
        "colab": {
          "base_uri": "https://localhost:8080/"
        },
        "outputId": "3b55b05f-a9dc-4220-9ae3-b57582786961"
      },
      "cell_type": "code",
      "source": [
        "#create animation for a random drawing \n",
        "index = classes.index(chi_eng.get(nouns))\n",
        "print(classes[index])\n",
        "drawing = drawings[index]\n",
        "create_animation(drawing)"
      ],
      "execution_count": 61,
      "outputs": [
        {
          "output_type": "stream",
          "name": "stdout",
          "text": [
            "house\n"
          ]
        }
      ]
    },
    {
      "metadata": {
        "id": "av_gNHXIPHvu",
        "outputId": "956930b4-4524-474b-dca0-5610a0ba612b",
        "colab": {
          "base_uri": "https://localhost:8080/",
          "height": 309
        }
      },
      "cell_type": "code",
      "source": [
        "video = io.open('video.mp4', 'r+b').read()\n",
        "\n",
        "encoded = base64.b64encode(video)\n",
        "HTML(data='''<video alt=\"video\" autoplay loop>\n",
        "                <source src=\"data:video/mp4;base64,{0}\" type=\"video/mp4\" />\n",
        "             </video>'''.format(encoded.decode('ascii')))"
      ],
      "execution_count": 62,
      "outputs": [
        {
          "output_type": "execute_result",
          "data": {
            "text/plain": [
              "<IPython.core.display.HTML object>"
            ],
            "text/html": [
              "<video alt=\"video\" autoplay loop>\n",
              "                <source src=\"data:video/mp4;base64,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\" type=\"video/mp4\" />\n",
              "             </video>"
            ]
          },
          "metadata": {},
          "execution_count": 62
        }
      ]
    }
  ]
}